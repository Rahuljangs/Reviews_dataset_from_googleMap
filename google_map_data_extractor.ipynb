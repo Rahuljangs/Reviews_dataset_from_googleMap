{
 "cells": [
  {
   "cell_type": "code",
   "execution_count": 1,
   "metadata": {},
   "outputs": [],
   "source": [
    "import time\n",
    "from selenium import webdriver\n",
    "from selenium.webdriver.common.by import By\n",
    "\n",
    "from selenium.webdriver.common.action_chains import ActionChains\n",
    "from selenium.webdriver.common.keys import Keys"
   ]
  },
  {
   "cell_type": "code",
   "execution_count": 2,
   "metadata": {},
   "outputs": [
    {
     "name": "stdout",
     "output_type": "stream",
     "text": [
      "Page: 1\n",
      "Page: 2\n",
      "Page: 3\n",
      "Page: 4\n",
      "Page: 5\n",
      "Page: 6\n",
      "Page: 7\n",
      "Page: 8\n",
      "Page: 9\n",
      "Page: 10\n",
      "Page: 11\n",
      "Page: 12\n",
      "Page: 13\n",
      "Page: 14\n"
     ]
    },
    {
     "ename": "NoSuchWindowException",
     "evalue": "Message: no such window: target window already closed\nfrom unknown error: web view not found\n  (Session info: chrome=118.0.5993.120)\nStacktrace:\n\tGetHandleVerifier [0x00007FF790688EF2+54786]\n\t(No symbol) [0x00007FF7905F5612]\n\t(No symbol) [0x00007FF7904AA64B]\n\t(No symbol) [0x00007FF79048A9F5]\n\t(No symbol) [0x00007FF790510887]\n\t(No symbol) [0x00007FF7905243CF]\n\t(No symbol) [0x00007FF79050BC43]\n\t(No symbol) [0x00007FF7904E0941]\n\t(No symbol) [0x00007FF7904E1B84]\n\tGetHandleVerifier [0x00007FF7909D7F52+3524194]\n\tGetHandleVerifier [0x00007FF790A2D800+3874576]\n\tGetHandleVerifier [0x00007FF790A25D7F+3843215]\n\tGetHandleVerifier [0x00007FF790725086+694166]\n\t(No symbol) [0x00007FF790600A88]\n\t(No symbol) [0x00007FF7905FCA94]\n\t(No symbol) [0x00007FF7905FCBC2]\n\t(No symbol) [0x00007FF7905ECC83]\n\tBaseThreadInitThunk [0x00007FFF83907344+20]\n\tRtlUserThreadStart [0x00007FFF842626B1+33]\n",
     "output_type": "error",
     "traceback": [
      "\u001b[1;31m---------------------------------------------------------------------------\u001b[0m",
      "\u001b[1;31mNoSuchWindowException\u001b[0m                     Traceback (most recent call last)",
      "\u001b[1;32md:\\SwitchOff\\notebooks\\google_map_data_extractor.ipynb Cell 2\u001b[0m line \u001b[0;36m4\n\u001b[0;32m     <a href='vscode-notebook-cell:/d%3A/SwitchOff/notebooks/google_map_data_extractor.ipynb#W1sZmlsZQ%3D%3D?line=44'>45</a>\u001b[0m     \u001b[39mif\u001b[39;00m cnt\u001b[39m>\u001b[39m\u001b[39m101\u001b[39m:\n\u001b[0;32m     <a href='vscode-notebook-cell:/d%3A/SwitchOff/notebooks/google_map_data_extractor.ipynb#W1sZmlsZQ%3D%3D?line=45'>46</a>\u001b[0m           \u001b[39mbreak\u001b[39;00m\n\u001b[1;32m---> <a href='vscode-notebook-cell:/d%3A/SwitchOff/notebooks/google_map_data_extractor.ipynb#W1sZmlsZQ%3D%3D?line=48'>49</a>\u001b[0m element \u001b[39m=\u001b[39m driver\u001b[39m.\u001b[39;49mfind_elements(By\u001b[39m.\u001b[39;49mXPATH, \u001b[39m'\u001b[39;49m\u001b[39m//*[contains(@class, \u001b[39;49m\u001b[39m\"\u001b[39;49m\u001b[39mJmi7d TJUuge\u001b[39;49m\u001b[39m\"\u001b[39;49m\u001b[39m)]\u001b[39;49m\u001b[39m'\u001b[39;49m)\n\u001b[0;32m     <a href='vscode-notebook-cell:/d%3A/SwitchOff/notebooks/google_map_data_extractor.ipynb#W1sZmlsZQ%3D%3D?line=49'>50</a>\u001b[0m \u001b[39mfor\u001b[39;00m i \u001b[39min\u001b[39;00m element:\n\u001b[0;32m     <a href='vscode-notebook-cell:/d%3A/SwitchOff/notebooks/google_map_data_extractor.ipynb#W1sZmlsZQ%3D%3D?line=50'>51</a>\u001b[0m                 \u001b[39mtry\u001b[39;00m:\n",
      "File \u001b[1;32mc:\\Users\\KIRA\\miniconda3\\lib\\site-packages\\selenium\\webdriver\\remote\\webdriver.py:768\u001b[0m, in \u001b[0;36mWebDriver.find_elements\u001b[1;34m(self, by, value)\u001b[0m\n\u001b[0;32m    764\u001b[0m     value \u001b[39m=\u001b[39m \u001b[39mf\u001b[39m\u001b[39m'\u001b[39m\u001b[39m[name=\u001b[39m\u001b[39m\"\u001b[39m\u001b[39m{\u001b[39;00mvalue\u001b[39m}\u001b[39;00m\u001b[39m\"\u001b[39m\u001b[39m]\u001b[39m\u001b[39m'\u001b[39m\n\u001b[0;32m    766\u001b[0m \u001b[39m# Return empty list if driver returns null\u001b[39;00m\n\u001b[0;32m    767\u001b[0m \u001b[39m# See https://github.com/SeleniumHQ/selenium/issues/4555\u001b[39;00m\n\u001b[1;32m--> 768\u001b[0m \u001b[39mreturn\u001b[39;00m \u001b[39mself\u001b[39;49m\u001b[39m.\u001b[39;49mexecute(Command\u001b[39m.\u001b[39;49mFIND_ELEMENTS, {\u001b[39m\"\u001b[39;49m\u001b[39musing\u001b[39;49m\u001b[39m\"\u001b[39;49m: by, \u001b[39m\"\u001b[39;49m\u001b[39mvalue\u001b[39;49m\u001b[39m\"\u001b[39;49m: value})[\u001b[39m\"\u001b[39m\u001b[39mvalue\u001b[39m\u001b[39m\"\u001b[39m] \u001b[39mor\u001b[39;00m []\n",
      "File \u001b[1;32mc:\\Users\\KIRA\\miniconda3\\lib\\site-packages\\selenium\\webdriver\\remote\\webdriver.py:344\u001b[0m, in \u001b[0;36mWebDriver.execute\u001b[1;34m(self, driver_command, params)\u001b[0m\n\u001b[0;32m    342\u001b[0m response \u001b[39m=\u001b[39m \u001b[39mself\u001b[39m\u001b[39m.\u001b[39mcommand_executor\u001b[39m.\u001b[39mexecute(driver_command, params)\n\u001b[0;32m    343\u001b[0m \u001b[39mif\u001b[39;00m response:\n\u001b[1;32m--> 344\u001b[0m     \u001b[39mself\u001b[39;49m\u001b[39m.\u001b[39;49merror_handler\u001b[39m.\u001b[39;49mcheck_response(response)\n\u001b[0;32m    345\u001b[0m     response[\u001b[39m\"\u001b[39m\u001b[39mvalue\u001b[39m\u001b[39m\"\u001b[39m] \u001b[39m=\u001b[39m \u001b[39mself\u001b[39m\u001b[39m.\u001b[39m_unwrap_value(response\u001b[39m.\u001b[39mget(\u001b[39m\"\u001b[39m\u001b[39mvalue\u001b[39m\u001b[39m\"\u001b[39m, \u001b[39mNone\u001b[39;00m))\n\u001b[0;32m    346\u001b[0m     \u001b[39mreturn\u001b[39;00m response\n",
      "File \u001b[1;32mc:\\Users\\KIRA\\miniconda3\\lib\\site-packages\\selenium\\webdriver\\remote\\errorhandler.py:229\u001b[0m, in \u001b[0;36mErrorHandler.check_response\u001b[1;34m(self, response)\u001b[0m\n\u001b[0;32m    227\u001b[0m         alert_text \u001b[39m=\u001b[39m value[\u001b[39m\"\u001b[39m\u001b[39malert\u001b[39m\u001b[39m\"\u001b[39m]\u001b[39m.\u001b[39mget(\u001b[39m\"\u001b[39m\u001b[39mtext\u001b[39m\u001b[39m\"\u001b[39m)\n\u001b[0;32m    228\u001b[0m     \u001b[39mraise\u001b[39;00m exception_class(message, screen, stacktrace, alert_text)  \u001b[39m# type: ignore[call-arg]  # mypy is not smart enough here\u001b[39;00m\n\u001b[1;32m--> 229\u001b[0m \u001b[39mraise\u001b[39;00m exception_class(message, screen, stacktrace)\n",
      "\u001b[1;31mNoSuchWindowException\u001b[0m: Message: no such window: target window already closed\nfrom unknown error: web view not found\n  (Session info: chrome=118.0.5993.120)\nStacktrace:\n\tGetHandleVerifier [0x00007FF790688EF2+54786]\n\t(No symbol) [0x00007FF7905F5612]\n\t(No symbol) [0x00007FF7904AA64B]\n\t(No symbol) [0x00007FF79048A9F5]\n\t(No symbol) [0x00007FF790510887]\n\t(No symbol) [0x00007FF7905243CF]\n\t(No symbol) [0x00007FF79050BC43]\n\t(No symbol) [0x00007FF7904E0941]\n\t(No symbol) [0x00007FF7904E1B84]\n\tGetHandleVerifier [0x00007FF7909D7F52+3524194]\n\tGetHandleVerifier [0x00007FF790A2D800+3874576]\n\tGetHandleVerifier [0x00007FF790A25D7F+3843215]\n\tGetHandleVerifier [0x00007FF790725086+694166]\n\t(No symbol) [0x00007FF790600A88]\n\t(No symbol) [0x00007FF7905FCA94]\n\t(No symbol) [0x00007FF7905FCBC2]\n\t(No symbol) [0x00007FF7905ECC83]\n\tBaseThreadInitThunk [0x00007FFF83907344+20]\n\tRtlUserThreadStart [0x00007FFF842626B1+33]\n"
     ]
    }
   ],
   "source": [
    "url='https://www.google.com/travel/search?gsas=1&qs=CAEy1AFDaG9JbWZ2aGk3ek5xZjJYQVJvTkwyY3ZNVEYwT1Y5c2RtdHlOQkFCR245QlVHUm1ZbGMxVUdKZlh6RnlYMk5IU1VNNE9YY3hSalE1WTJoWldXTmxRbkJEZGpWc01tWjZOMDlaYjIxdk9UaFRWMTkyUVhKS1dYVXljVzFsYUZOZllXVXpTVjlHTFVkaGFFZGxUMUo1Y1hFM1VYbHJSamh2UXpaZmNuRmhia2xuZHpOcGVubGpZMnBxU0VSblozcG1ZWGhWVVhsd2MxSjJaMDl5Vms5RjgNSAA&ts=CAESCgoCCAMKAggDEAAaaQpLEkkyJTB4M2JhZTE3MjBhNzkwNmU1MToweDhkNmFiY2VjM2NkNzU1ZDI6IEVtcGlyZSBSZXN0YXVyYW50IHwgS2FtbWFuYWhhbGxpEhoSFAoHCOcPEAsYCBIHCOcPEAsYCRgBMgIIAioHCgU6A0lOUg&ap=KigKEgmfgG_UEQQqQBGyhBBQk2lTQBISCWRUSLHMDSpAEbKEEIY-alNAMABoALoBCGZlYXR1cmVk&destination=Empire%20Restaurant%20%7C%20Kammanahalli'\n",
    "options = webdriver.ChromeOptions()\n",
    "options.add_argument('--no-sandbox')\n",
    "options.add_argument('--disable-dev-shm-usage')\n",
    "options = webdriver.ChromeOptions()\n",
    "driver = webdriver.Chrome(options=options)\n",
    "all_reviews=set()\n",
    "driver.get(url)\n",
    "time.sleep(2)\n",
    "#click on reviews\n",
    "element = driver.find_element(By.XPATH, '/html/body/c-wiz[2]/div/c-wiz/div[1]/div[2]/div[2]/div[2]/div[2]/c-wiz/div/div/div[1]/div[2]/div[3]/span')\n",
    "element.click()\n",
    "\n",
    "time.sleep(2)\n",
    "cnt=1\n",
    "#click on read_more\n",
    "\n",
    "while 1:\n",
    "    try:\n",
    "        time.sleep(1)\n",
    "        element = driver.find_elements(By.XPATH, '//*[contains(@class, \"Jmi7d TJUuge\")]')\n",
    "        for i in element:\n",
    "                try:\n",
    "                    if i.text!='':\n",
    "                        driver.execute_script(\"arguments[0].scrollIntoView();\", i)\n",
    "                        driver.execute_script(\"window.scrollBy(0, -600);\")\n",
    "                        \n",
    "                        i.click()\n",
    "                except:\n",
    "                     pass\n",
    "\n",
    "        time.sleep(1)\n",
    "        data = driver.find_elements(By.XPATH, '//*[contains(@class,\"K7oBsc\")]')\n",
    "        last=len(data)\n",
    "        time.sleep(0.2)\n",
    "        driver.execute_script(\"window.scrollTo(0, document.body.scrollHeight)\")\n",
    "        driver.execute_script(\"window.scrollBy(0, -100);\")\n",
    "        print(\"Page: \",end='')\n",
    "        print(cnt)\n",
    "        cnt+=1\n",
    "        \n",
    "    except:\n",
    "        break\n",
    "    if cnt>101:\n",
    "          break\n",
    "    \n",
    "\n",
    "element = driver.find_elements(By.XPATH, '//*[contains(@class, \"Jmi7d TJUuge\")]')\n",
    "for i in element:\n",
    "                try:\n",
    "                    driver.execute_script(\"arguments[0].scrollIntoView();\", i)\n",
    "                    driver.execute_script(\"window.scrollBy(0, -600);\")\n",
    "                    \n",
    "                    i.click()\n",
    "                except:\n",
    "                     pass\n",
    "\n",
    "        \n",
    "time.sleep(1)\n",
    "for i in data:\n",
    "            if i.text!='':\n",
    "                all_reviews.add(i.text)\n"
   ]
  },
  {
   "cell_type": "markdown",
   "metadata": {},
   "source": []
  },
  {
   "cell_type": "code",
   "execution_count": 18,
   "metadata": {},
   "outputs": [],
   "source": [
    "len(all_reviews)\n",
    "name=[]\n",
    "title=[]\n",
    "rating=[]\n",
    "date=[]\n"
   ]
  },
  {
   "cell_type": "code",
   "execution_count": 19,
   "metadata": {},
   "outputs": [],
   "source": [
    "for i in range(1219):\n",
    "    name.append(\"WelcomHeritage Ayatana\")\n",
    "    title.append('')\n",
    "    rating.append('')\n",
    "    date.append('')"
   ]
  },
  {
   "cell_type": "code",
   "execution_count": 20,
   "metadata": {},
   "outputs": [
    {
     "data": {
      "text/plain": [
       "1219"
      ]
     },
     "execution_count": 20,
     "metadata": {},
     "output_type": "execute_result"
    }
   ],
   "source": [
    "len(title)"
   ]
  },
  {
   "cell_type": "code",
   "execution_count": 38,
   "metadata": {},
   "outputs": [
    {
     "name": "stdout",
     "output_type": "stream",
     "text": [
      "CSV file 'D:/SwitchOff/data/Final_Ayatana.csv' has been created.\n"
     ]
    }
   ],
   "source": [
    "import csv \n",
    "data = list(zip(u_date, u_rating, u_title, u_reviews, u_name))\n",
    "\n",
    "fieldnames = [\"Date\", \"Rating\", \"Title\", \"Reviews\", \"Property Name\"]\n",
    "csv_file='D:/SwitchOff/data/Final_Ayatana.csv'\n",
    "with open(csv_file, mode=\"w\", newline=\"\", encoding=\"utf-8\") as file:\n",
    "    writer = csv.writer(file)\n",
    "\n",
    "    \n",
    "    writer.writerow(fieldnames)\n",
    "\n",
    "    for row in data:\n",
    "        writer.writerow(row)\n",
    "\n",
    "print(f\"CSV file '{csv_file}' has been created.\")"
   ]
  },
  {
   "cell_type": "code",
   "execution_count": 5,
   "metadata": {},
   "outputs": [],
   "source": [
    "reviews=all_reviews"
   ]
  },
  {
   "cell_type": "code",
   "execution_count": 6,
   "metadata": {},
   "outputs": [],
   "source": [
    "new_reviews=[]\n",
    "for i in reviews:\n",
    "    s=i.split('\\n')\n",
    "    temp=''\n",
    "    for j in s:\n",
    "        temp+=j+\" \"\n",
    "    new_reviews.append(temp)\n",
    "\n"
   ]
  },
  {
   "cell_type": "code",
   "execution_count": 31,
   "metadata": {},
   "outputs": [],
   "source": [
    "u_title=[]\n",
    "u_date=[]\n",
    "u_name=[]\n",
    "u_reviews=[]\n",
    "u_rating=[]\n"
   ]
  },
  {
   "cell_type": "code",
   "execution_count": 35,
   "metadata": {},
   "outputs": [],
   "source": [
    "with open(\"D:/SwitchOff/data/ayatana2.csv\", mode=\"r\", newline=\"\", encoding=\"utf-8\") as file:\n",
    "    reader = csv.reader(file)\n",
    "    for row in reader:\n",
    "        if row:  \n",
    "            u_title.append(row[2])\n",
    "            u_date.append(row[0])\n",
    "            u_rating.append(row[1])\n",
    "            u_reviews.append(row[3])\n",
    "            u_name.append(row[4])"
   ]
  }
 ],
 "metadata": {
  "kernelspec": {
   "display_name": "base",
   "language": "python",
   "name": "python3"
  },
  "language_info": {
   "codemirror_mode": {
    "name": "ipython",
    "version": 3
   },
   "file_extension": ".py",
   "mimetype": "text/x-python",
   "name": "python",
   "nbconvert_exporter": "python",
   "pygments_lexer": "ipython3",
   "version": "3.9.18"
  }
 },
 "nbformat": 4,
 "nbformat_minor": 2
}
